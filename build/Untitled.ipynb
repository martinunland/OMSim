{
 "cells": [
  {
   "cell_type": "code",
   "execution_count": 2,
   "id": "7f62463e",
   "metadata": {},
   "outputs": [
    {
     "name": "stdout",
     "output_type": "stream",
     "text": [
      "./OMSim --detector_type 1 --pmt_model 3 --abs_length 0.001 -n 100000 --output_file index_DEGG_0.txt./OMSim --detector_type 1 --pmt_model 3 --abs_length 0.0005689866029018299 -n 100000 --output_file index_DEGG_4.txt./OMSim --detector_type 1 --pmt_model 3 --abs_length 0.00018420699693267163 -n 100000 --output_file index_DEGG_12.txt\n",
      "\n",
      "./OMSim --detector_type 1 --pmt_model 3 --abs_length 0.00032374575428176434 -n 100000 --output_file index_DEGG_8.txt\n",
      "\n",
      "./OMSim --detector_type 1 --pmt_model 3 --abs_length 0.0002811768697974231 -n 100000 --output_file index_DEGG_9.txt./OMSim --detector_type 1 --pmt_model 3 --abs_length 0.000868511373751353 -n 100000 --output_file index_DEGG_1.txt\n",
      "\n",
      "./OMSim --detector_type 1 --pmt_model 3 --abs_length 0.00015998587196060574 -n 100000 --output_file index_DEGG_13.txt\n",
      "./OMSim --detector_type 1 --pmt_model 3 --abs_length 0.0004941713361323833 -n 100000 --output_file index_DEGG_5.txt\n",
      "./OMSim --detector_type 1 --pmt_model 3 --abs_length 0.00013894954943731373 -n 100000 --output_file index_DEGG_14.txt\n",
      "./OMSim --detector_type 1 --pmt_model 3 --abs_length 0.000244205309454865 -n 100000 --output_file index_DEGG_10.txt\n",
      "./OMSim --detector_type 1 --pmt_model 3 --abs_length 0.0007543120063354615 -n 100000 --output_file index_DEGG_2.txt\n",
      "./OMSim --detector_type 1 --pmt_model 3 --abs_length 0.00042919342601287783 -n 100000 --output_file index_DEGG_6.txt\n",
      "./OMSim --detector_type 1 --pmt_model 3 --abs_length 0.00021209508879201905 -n 100000 --output_file index_DEGG_11.txt\n",
      "./OMSim --detector_type 1 --pmt_model 3 --abs_length 0.00012067926406393288 -n 100000 --output_file index_DEGG_15.txt\n",
      "./OMSim --detector_type 1 --pmt_model 3 --abs_length 0.00037275937203149417 -n 100000 --output_file index_DEGG_7.txt\n",
      "./OMSim --detector_type 1 --pmt_model 3 --abs_length 0.0006551285568595509 -n 100000 --output_file index_DEGG_3.txt\n",
      "./OMSim --detector_type 1 --pmt_model 3 --abs_length 0.00010481131341546853 -n 100000 --output_file index_DEGG_16.txt\n",
      "./OMSim --detector_type 1 --pmt_model 3 --abs_length 5.9636233165946365e-05 -n 100000 --output_file index_DEGG_20.txt\n",
      "./OMSim --detector_type 1 --pmt_model 3 --abs_length 3.39322177189533e-05 -n 100000 --output_file index_DEGG_24.txt\n",
      "./OMSim --detector_type 1 --pmt_model 3 --abs_length 1.9306977288832496e-05 -n 100000 --output_file index_DEGG_28.txt\n",
      "./OMSim --detector_type 1 --pmt_model 3 --abs_length 9.102981779915228e-05 -n 100000 --output_file index_DEGG_17.txt\n",
      "./OMSim --detector_type 1 --pmt_model 3 --abs_length 5.1794746792312125e-05 -n 100000 --output_file index_DEGG_21.txt\n",
      "./OMSim --detector_type 1 --pmt_model 3 --abs_length 1.67683293681101e-05 -n 100000 --output_file index_DEGG_29.txt\n",
      "./OMSim --detector_type 1 --pmt_model 3 --abs_length 2.94705170255181e-05 -n 100000 --output_file index_DEGG_25.txt\n",
      "./OMSim --detector_type 1 --pmt_model 3 --abs_length 1.4563484775012445e-05 -n 100000 --output_file index_DEGG_30.txt\n",
      "./OMSim --detector_type 1 --pmt_model 3 --abs_length 7.906043210907701e-05 -n 100000 --output_file index_DEGG_18.txt\n",
      "./OMSim --detector_type 1 --pmt_model 3 --abs_length 2.559547922699533e-05 -n 100000 --output_file index_DEGG_26.txt\n",
      "./OMSim --detector_type 1 --pmt_model 3 --abs_length 4.498432668969444e-05 -n 100000 --output_file index_DEGG_22.txt\n",
      "./OMSim --detector_type 1 --pmt_model 3 --abs_length 1.2648552168552958e-05 -n 100000 --output_file index_DEGG_31.txt\n",
      "./OMSim --detector_type 1 --pmt_model 3 --abs_length 3.906939937054621e-05 -n 100000 --output_file index_DEGG_23.txt\n",
      "./OMSim --detector_type 1 --pmt_model 3 --abs_length 2.2229964825261955e-05 -n 100000 --output_file index_DEGG_27.txt\n",
      "./OMSim --detector_type 1 --pmt_model 3 --abs_length 6.866488450042999e-05 -n 100000 --output_file index_DEGG_19.txt\n",
      "./OMSim --detector_type 1 --pmt_model 3 --abs_length 1.0985411419875572e-05 -n 100000 --output_file index_DEGG_32.txt\n",
      "./OMSim --detector_type 1 --pmt_model 3 --abs_length 6.250551925273976e-06 -n 100000 --output_file index_DEGG_36.txt\n",
      "./OMSim --detector_type 1 --pmt_model 3 --abs_length 3.5564803062231285e-06 -n 100000 --output_file index_DEGG_40.txt\n",
      "./OMSim --detector_type 1 --pmt_model 3 --abs_length 2.0235896477251557e-06 -n 100000 --output_file index_DEGG_44.txt\n",
      "./OMSim --detector_type 1 --pmt_model 3 --abs_length 9.540954763499944e-06 -n 100000 --output_file index_DEGG_33.txt\n",
      "./OMSim --detector_type 1 --pmt_model 3 --abs_length 5.428675439323859e-06 -n 100000 --output_file index_DEGG_37.txt\n",
      "./OMSim --detector_type 1 --pmt_model 3 --abs_length 1.757510624854793e-06 -n 100000 --output_file index_DEGG_45.txt\n",
      "./OMSim --detector_type 1 --pmt_model 3 --abs_length 3.088843596477485e-06 -n 100000 --output_file index_DEGG_41.txt\n",
      "./OMSim --detector_type 1 --pmt_model 3 --abs_length 8.286427728546843e-06 -n 100000 --output_file index_DEGG_34.txt\n",
      "./OMSim --detector_type 1 --pmt_model 3 --abs_length 1.5264179671752333e-06 -n 100000 --output_file index_DEGG_46.txt\n",
      "./OMSim --detector_type 1 --pmt_model 3 --abs_length 4.71486636345739e-06 -n 100000 --output_file index_DEGG_38.txt\n",
      "./OMSim --detector_type 1 --pmt_model 3 --abs_length 2.6826957952797274e-06 -n 100000 --output_file index_DEGG_42.txt\n",
      "./OMSim --detector_type 1 --pmt_model 3 --abs_length 7.196856730011529e-06 -n 100000 --output_file index_DEGG_35.txt\n",
      "./OMSim --detector_type 1 --pmt_model 3 --abs_length 1.3257113655901108e-06 -n 100000 --output_file index_DEGG_47.txt\n",
      "./OMSim --detector_type 1 --pmt_model 3 --abs_length 4.094915062380427e-06 -n 100000 --output_file index_DEGG_39.txt\n",
      "./OMSim --detector_type 1 --pmt_model 3 --abs_length 2.3299518105153717e-06 -n 100000 --output_file index_DEGG_43.txt\n",
      "./OMSim --detector_type 1 --pmt_model 3 --abs_length 1.151395399326448e-06 -n 100000 --output_file index_DEGG_48.txt\n",
      "./OMSim --detector_type 1 --pmt_model 3 --abs_length 1e-06 -n 100000 --output_file index_DEGG_49.txt\n"
     ]
    }
   ],
   "source": [
    "from multiprocessing import Pool\n",
    "import subprocess\n",
    "import numpy as np\n",
    "\n",
    "# Define the range of abs lengths. For example, from 1 to 10.\n",
    "abs_lengths = np.logspace(-3, -6, 50)\n",
    "\n",
    "# Define a function to run a single simulation.\n",
    "def run_simulation(args):\n",
    "    index, abs_length = args\n",
    "    # Construct the command.\n",
    "    command = f\"./OMSim --detector_type 1 --pmt_model 3 --abs_length {abs_length} -n 100000 --output_file index_DEGG_{index}.txt\"\n",
    "    print(command)\n",
    "    # Execute the command.\n",
    "    subprocess.run(command, shell=True)\n",
    "\n",
    "\n",
    "with Pool(4) as p:\n",
    "    p.map(run_simulation, enumerate(abs_lengths))"
   ]
  },
  {
   "cell_type": "code",
   "execution_count": null,
   "id": "ea614579",
   "metadata": {},
   "outputs": [],
   "source": []
  }
 ],
 "metadata": {
  "kernelspec": {
   "display_name": "Python 3",
   "language": "python",
   "name": "python3"
  },
  "language_info": {
   "codemirror_mode": {
    "name": "ipython",
    "version": 3
   },
   "file_extension": ".py",
   "mimetype": "text/x-python",
   "name": "python",
   "nbconvert_exporter": "python",
   "pygments_lexer": "ipython3",
   "version": "3.7.6"
  }
 },
 "nbformat": 4,
 "nbformat_minor": 5
}
